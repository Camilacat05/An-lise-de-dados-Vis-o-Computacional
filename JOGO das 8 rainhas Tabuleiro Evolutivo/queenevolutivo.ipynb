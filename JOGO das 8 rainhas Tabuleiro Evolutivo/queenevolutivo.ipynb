{
 "cells": [
  {
   "cell_type": "code",
   "execution_count": null,
   "metadata": {},
   "outputs": [],
   "source": [
    "import random\n",
    "import string\n",
    "import numpy as np\n",
    "\n"
   ]
  },
  {
   "cell_type": "code",
   "execution_count": null,
   "metadata": {},
   "outputs": [],
   "source": [
    "# Calculate max fitness based on population\n",
    "def calculate_max_fitness():\n",
    "    i = board_size - 1\n",
    "    max_fitness = 0\n",
    "    while i > 0:\n",
    "        max_fitness += i\n",
    "        i -= 1\n",
    "    return max_fitness\n",
    "\n",
    "# Generate a random individual based on the board size\n",
    "def random_individual(board_size):\n",
    "    return [ random.randint(0, board_size-1) for _ in range(board_size) ]\n",
    "\n",
    "# Define the fitness of an individual based on the number of pairs of non-attacking queens\n",
    "def fitness(individual):\n",
    "    horizontal_collisions = sum([individual.count(queen)-1 for queen in individual])/2\n",
    "    diagonal_collisions = 0\n",
    "\n",
    "    n = len(individual)\n",
    "    left_diagonal = [0] * 2*n\n",
    "    right_diagonal = [0] * 2*n\n",
    "    for i in range(n):\n",
    "        left_diagonal[i + individual[i] - 1] += 1\n",
    "        right_diagonal[len(individual) - i + individual[i] - 2] += 1\n",
    "\n",
    "    for i in range(2*n-1):\n",
    "        counter = 0\n",
    "        if left_diagonal[i] > 1:\n",
    "            counter += left_diagonal[i]-1\n",
    "        if right_diagonal[i] > 1:\n",
    "            counter += right_diagonal[i]-1\n",
    "        diagonal_collisions += counter / (n-abs(i-n+1))\n",
    "    return int(max_fitness - (horizontal_collisions + diagonal_collisions))\n",
    "\n",
    "# Calculate the probability of an individual based on his fitness compared to max_fitness\n",
    "def probability(individual, fitness):\n",
    "    return fitness(individual) / max_fitness\n",
    "\n",
    "# Take a random individual based on population by probabilitie\n",
    "def random_pick(population, probabilities):\n",
    "    populationWithProbabilty = zip(population, probabilities)\n",
    "    total = sum(w for c, w in populationWithProbabilty)\n",
    "    r = random.uniform(0, total)\n",
    "    upto = 0\n",
    "    for c, w in zip(population, probabilities):\n",
    "        if upto + w >= r:\n",
    "            return c\n",
    "        upto += w\n",
    "    assert False, \n",
    "\n",
    "# Return one new individual, his genes are from two individual x and y with a random with a random separator\n",
    "def reproduce(x, y):\n",
    "    n = len(x)\n",
    "    #c = 4\n",
    "    c = random.randint(0, n - 1)\n",
    "    return x[0:c] + y[c:n]\n",
    "\n",
    "# Return an individual with one random gene modified between 1 and n (board_size)\n",
    "def mutate(x):\n",
    "    n = len(x)\n",
    "    c = random.randint(0, n - 1)\n",
    "    m = random.randint(1, n)\n",
    "    x[c] = m\n",
    "    return x\n",
    "\n",
    "# Loop of creation of new populations with random individuals \n",
    "def genetic_queen(population, fitness):\n",
    "    # Probability of mutation\n",
    "    new_population = []\n",
    "    probabilities = [probability(n, fitness) for n in population]\n",
    "    for i in range(len(population)):\n",
    "        x = random_pick(population, probabilities)\n",
    "        y = random_pick(population, probabilities)\n",
    "        child = reproduce(x, y)\n",
    "        if random.random() < mutation_probability:\n",
    "            child = mutate(child)\n",
    "        new_population.append(child)\n",
    "        if fitness(child) == max_fitness: break\n",
    "    return new_population\n",
    "\n",
    "\n",
    "# Asks the user for main variables\n",
    "def get_settings():\n",
    "    while True:\n",
    "        try:\n",
    "            board_size = int(input(\"Please choose the board size (default 8): \"))\n",
    "            if board_size > 3:\n",
    "                break;\n",
    "            else:\n",
    "                print(\"Please enter a number > 4.\")\n",
    "        except ValueError:\n",
    "            print(\"Please enter a valid number.\")\n",
    "    while True:\n",
    "        try:\n",
    "            max_pop = int(input(\"Please choose the size of population (default 500): \"))\n",
    "            if max_pop > 3:\n",
    "                break;\n",
    "            else:\n",
    "                print(\"Please enter a number > 1.\")\n",
    "        except ValueError:\n",
    "            print(\"Please enter a valid number.\")\n",
    "    while True:\n",
    "        try:\n",
    "            mutation_probability = float(input(\"Please choose the mutation probability (default 0.05): \"))\n",
    "            if mutation_probability > 0 and mutation_probability < 1:\n",
    "                break;\n",
    "            else:\n",
    "                print(\"Please enter a number > 0 and < 1.\")\n",
    "        except ValueError:\n",
    "            print(\"Please enter a valid number.\")\n",
    "    return board_size, max_pop, mutation_probability\n",
    "\n"
   ]
  },
  {
   "cell_type": "code",
   "execution_count": null,
   "metadata": {},
   "outputs": [],
   "source": [
    "# Main loop\n",
    "if __name__ == \"__main__\":\n",
    "    board_size, max_pop, mutation_probability = get_settings()\n",
    "    max_fitness = calculate_max_fitness()\n",
    "    population = [random_individual(board_size) for _ in range(max_pop)]\n",
    "    generation = 1\n",
    "    while not max_fitness in [fitness(x) for x in population]:\n",
    "        population = genetic_queen(population, fitness)\n",
    "        print(\"Generation = \" + str(generation) + \" | Maximum fitness = {}\".format(max([fitness(n) for n in population])))\n",
    "        generation += 1\n",
    "    print(\"Solved in Generation {}!\".format(generation-1))\n",
    "    for x in population:\n",
    "        if fitness(x) == max_fitness:\n",
    "            #print_individual(x)\n",
    "            #print_table(x)\n",
    "            print(x)\n",
    "            solution = x"
   ]
  },
  {
   "cell_type": "code",
   "execution_count": 124,
   "metadata": {},
   "outputs": [
    {
     "name": "stdout",
     "output_type": "stream",
     "text": [
      "[4, 0, 7, 5, 2, 6, 1, 3]\n"
     ]
    }
   ],
   "source": [
    "print(solution)\n",
    "#list = []\n",
    "#for l in range(8):\n",
    " #   list.append(solution[l]-1)\n",
    "    \n",
    "#print(list)"
   ]
  },
  {
   "cell_type": "code",
   "execution_count": 126,
   "metadata": {},
   "outputs": [],
   "source": [
    "def print_table(solution):\n",
    "    lista = []\n",
    "    tabu = np.zeros((8,8), dtype=int)\n",
    "    for l in range(8):\n",
    "        tabu[l][solution[l]] = 1\n",
    "        #print (tabu)\n",
    "    lista.append(tabu)    \n",
    "    return lista\n",
    " \n"
   ]
  },
  {
   "cell_type": "code",
   "execution_count": 127,
   "metadata": {},
   "outputs": [
    {
     "name": "stdout",
     "output_type": "stream",
     "text": [
      "\n",
      "Matriz de solução 0 :\n",
      "[[0 0 0 0 1 0 0 0]\n",
      " [1 0 0 0 0 0 0 0]\n",
      " [0 0 0 0 0 0 0 1]\n",
      " [0 0 0 0 0 1 0 0]\n",
      " [0 0 1 0 0 0 0 0]\n",
      " [0 0 0 0 0 0 1 0]\n",
      " [0 1 0 0 0 0 0 0]\n",
      " [0 0 0 1 0 0 0 0]]\n"
     ]
    }
   ],
   "source": [
    "lista = print_table(solution)\n",
    "\n",
    "#Printando as matrizes de soluções\n",
    "for i, elemLi in enumerate(lista):\n",
    "    print()\n",
    "    print('Matriz de solução', i, ':')\n",
    "    print(elemLi)"
   ]
  },
  {
   "cell_type": "code",
   "execution_count": null,
   "metadata": {},
   "outputs": [],
   "source": []
  },
  {
   "cell_type": "code",
   "execution_count": null,
   "metadata": {},
   "outputs": [],
   "source": []
  },
  {
   "cell_type": "code",
   "execution_count": null,
   "metadata": {},
   "outputs": [],
   "source": []
  },
  {
   "cell_type": "code",
   "execution_count": null,
   "metadata": {},
   "outputs": [],
   "source": []
  }
 ],
 "metadata": {
  "kernelspec": {
   "display_name": "Python 3",
   "language": "python",
   "name": "python3"
  },
  "language_info": {
   "codemirror_mode": {
    "name": "ipython",
    "version": 3
   },
   "file_extension": ".py",
   "mimetype": "text/x-python",
   "name": "python",
   "nbconvert_exporter": "python",
   "pygments_lexer": "ipython3",
   "version": "3.7.3"
  }
 },
 "nbformat": 4,
 "nbformat_minor": 2
}
