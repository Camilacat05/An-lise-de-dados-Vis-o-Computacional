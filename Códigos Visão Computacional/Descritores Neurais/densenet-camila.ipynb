{
 "cells": [
  {
   "cell_type": "code",
   "execution_count": 70,
   "metadata": {
    "_cell_guid": "b1076dfc-b9ad-4769-8c92-a6c4dae69d19",
    "_uuid": "8f2839f25d086af736a60e9eeb907d3b93b6e0e5",
    "execution": {
     "iopub.execute_input": "2021-08-31T19:06:32.617153Z",
     "iopub.status.busy": "2021-08-31T19:06:32.616751Z",
     "iopub.status.idle": "2021-08-31T19:06:32.629923Z",
     "shell.execute_reply": "2021-08-31T19:06:32.629123Z",
     "shell.execute_reply.started": "2021-08-31T19:06:32.617092Z"
    }
   },
   "outputs": [],
   "source": [
    "from tensorflow.keras import models\n",
    "from tensorflow.keras import layers\n",
    "from tensorflow.keras.applications import DenseNet201\n",
    "import numpy as np\n",
    "from glob import glob \n",
    "from skimage.transform import resize\n",
    "from tqdm import tqdm\n",
    "import pandas as pd\n",
    "import cv2\n",
    "import numpy as np \n",
    "import pandas as pd\n",
    "from tensorflow.keras.backend import set_image_data_format\n",
    "from tensorflow.keras.preprocessing import image\n",
    "from skimage.io import imread_collection, imread\n",
    "from tensorflow.keras.applications.vgg16 import VGG16\n",
    "from tensorflow.keras.applications.vgg16 import preprocess_input\n",
    "import warnings\n",
    "import os\n",
    "warnings.filterwarnings('ignore')\n",
    "%matplotlib inline"
   ]
  },
  {
   "cell_type": "code",
   "execution_count": 71,
   "metadata": {
    "execution": {
     "iopub.execute_input": "2021-08-31T19:06:32.657283Z",
     "iopub.status.busy": "2021-08-31T19:06:32.656912Z",
     "iopub.status.idle": "2021-08-31T19:06:33.050891Z",
     "shell.execute_reply": "2021-08-31T19:06:33.049780Z",
     "shell.execute_reply.started": "2021-08-31T19:06:32.657250Z"
    }
   },
   "outputs": [
    {
     "name": "stdout",
     "output_type": "stream",
     "text": [
      "The database has 6012 segmented images\n"
     ]
    }
   ],
   "source": [
    "path = '/data/flavio/Camila/imagens/clahe/originais-clahe/lung-clahe/'\n",
    "image_names = os.listdir(path)\n",
    "gray_images = [imread(path+str(name)+'') for name in image_names]\n",
    "print('The database has {} segmented images'.format(len(gray_images)))"
   ]
  },
  {
   "cell_type": "code",
   "execution_count": 72,
   "metadata": {
    "execution": {
     "iopub.execute_input": "2021-08-31T19:06:33.052499Z",
     "iopub.status.busy": "2021-08-31T19:06:33.052294Z",
     "iopub.status.idle": "2021-08-31T19:06:33.064211Z",
     "shell.execute_reply": "2021-08-31T19:06:33.063161Z",
     "shell.execute_reply.started": "2021-08-31T19:06:33.052477Z"
    }
   },
   "outputs": [
    {
     "name": "stderr",
     "output_type": "stream",
     "text": [
      "100%|██████████| 6012/6012 [00:00<00:00, 27584.69it/s]\n"
     ]
    }
   ],
   "source": [
    "from tqdm import tqdm\n",
    "resize_i = []\n",
    "for i in tqdm(gray_images): \n",
    "          im = cv2.resize((i),(256, 256))\n",
    "          resize_i.append(im)"
   ]
  },
  {
   "cell_type": "code",
   "execution_count": 73,
   "metadata": {
    "execution": {
     "iopub.execute_input": "2021-08-31T19:06:33.066134Z",
     "iopub.status.busy": "2021-08-31T19:06:33.065750Z",
     "iopub.status.idle": "2021-08-31T19:06:33.173719Z",
     "shell.execute_reply": "2021-08-31T19:06:33.172878Z",
     "shell.execute_reply.started": "2021-08-31T19:06:33.066103Z"
    }
   },
   "outputs": [],
   "source": [
    "images = np.zeros((len(gray_images), gray_images[0].shape[0], gray_images[0].shape[1], 3))\n",
    "\n",
    "for i, im in enumerate(gray_images):\n",
    "    for j in range(3):\n",
    "        images[i, :, :, j] = im"
   ]
  },
  {
   "cell_type": "code",
   "execution_count": 74,
   "metadata": {
    "execution": {
     "iopub.execute_input": "2021-08-31T19:06:33.175257Z",
     "iopub.status.busy": "2021-08-31T19:06:33.175026Z",
     "iopub.status.idle": "2021-08-31T19:06:37.203050Z",
     "shell.execute_reply": "2021-08-31T19:06:37.201895Z",
     "shell.execute_reply.started": "2021-08-31T19:06:33.175233Z"
    }
   },
   "outputs": [],
   "source": [
    "model1 = DenseNet201(weights='imagenet', include_top=False, input_shape=(256, 256, 3), pooling='avg')"
   ]
  },
  {
   "cell_type": "code",
   "execution_count": 75,
   "metadata": {
    "execution": {
     "iopub.execute_input": "2021-08-31T19:06:37.206120Z",
     "iopub.status.busy": "2021-08-31T19:06:37.205814Z",
     "iopub.status.idle": "2021-08-31T19:06:37.209758Z",
     "shell.execute_reply": "2021-08-31T19:06:37.208884Z",
     "shell.execute_reply.started": "2021-08-31T19:06:37.206091Z"
    }
   },
   "outputs": [],
   "source": [
    "#model = models.Sequential()\n",
    "#model.add(model1)\n",
    "#model.add(layers.Flatten())\n",
    "#model.add(layers.Dense(1024, activation='relu'))\n",
    "# the 3 corresponds to the three output classes\n",
    "#model.add(layers.Dense(256, activation='relu'))"
   ]
  },
  {
   "cell_type": "code",
   "execution_count": 76,
   "metadata": {
    "execution": {
     "iopub.execute_input": "2021-08-31T19:06:37.210971Z",
     "iopub.status.busy": "2021-08-31T19:06:37.210757Z",
     "iopub.status.idle": "2021-08-31T19:06:37.226915Z",
     "shell.execute_reply": "2021-08-31T19:06:37.226191Z",
     "shell.execute_reply.started": "2021-08-31T19:06:37.210947Z"
    }
   },
   "outputs": [],
   "source": [
    "#model1.summary()"
   ]
  },
  {
   "cell_type": "code",
   "execution_count": 77,
   "metadata": {
    "execution": {
     "iopub.execute_input": "2021-08-31T19:06:37.228344Z",
     "iopub.status.busy": "2021-08-31T19:06:37.228125Z",
     "iopub.status.idle": "2021-08-31T19:06:37.242316Z",
     "shell.execute_reply": "2021-08-31T19:06:37.241567Z",
     "shell.execute_reply.started": "2021-08-31T19:06:37.228320Z"
    }
   },
   "outputs": [],
   "source": [
    "#layer_name = ''\n",
    "#intermediate_layer = models.Model(inputs=model1.input, outputs=model1.output)"
   ]
  },
  {
   "cell_type": "code",
   "execution_count": 78,
   "metadata": {
    "execution": {
     "iopub.execute_input": "2021-08-31T19:06:37.244302Z",
     "iopub.status.busy": "2021-08-31T19:06:37.244089Z",
     "iopub.status.idle": "2021-08-31T19:07:01.831978Z",
     "shell.execute_reply": "2021-08-31T19:07:01.830656Z",
     "shell.execute_reply.started": "2021-08-31T19:06:37.244279Z"
    }
   },
   "outputs": [],
   "source": [
    "x = preprocess_input(images)\n",
    "\n",
    "features = model1.predict(x)\n"
   ]
  },
  {
   "cell_type": "code",
   "execution_count": 79,
   "metadata": {
    "execution": {
     "iopub.execute_input": "2021-08-31T19:07:01.834190Z",
     "iopub.status.busy": "2021-08-31T19:07:01.833910Z",
     "iopub.status.idle": "2021-08-31T19:07:01.839428Z",
     "shell.execute_reply": "2021-08-31T19:07:01.838497Z",
     "shell.execute_reply.started": "2021-08-31T19:07:01.834162Z"
    }
   },
   "outputs": [],
   "source": [
    "#output"
   ]
  },
  {
   "cell_type": "code",
   "execution_count": 80,
   "metadata": {
    "execution": {
     "iopub.execute_input": "2021-08-31T19:07:01.840797Z",
     "iopub.status.busy": "2021-08-31T19:07:01.840567Z",
     "iopub.status.idle": "2021-08-31T19:07:01.857962Z",
     "shell.execute_reply": "2021-08-31T19:07:01.857086Z",
     "shell.execute_reply.started": "2021-08-31T19:07:01.840771Z"
    }
   },
   "outputs": [
    {
     "data": {
      "text/plain": [
       "(1920,)"
      ]
     },
     "execution_count": 80,
     "metadata": {},
     "output_type": "execute_result"
    }
   ],
   "source": [
    "features[0].shape"
   ]
  },
  {
   "cell_type": "code",
   "execution_count": 81,
   "metadata": {
    "execution": {
     "iopub.execute_input": "2021-08-31T19:07:01.859275Z",
     "iopub.status.busy": "2021-08-31T19:07:01.859070Z",
     "iopub.status.idle": "2021-08-31T19:07:01.894675Z",
     "shell.execute_reply": "2021-08-31T19:07:01.893782Z",
     "shell.execute_reply.started": "2021-08-31T19:07:01.859253Z"
    }
   },
   "outputs": [
    {
     "data": {
      "text/html": [
       "<div>\n",
       "<style scoped>\n",
       "    .dataframe tbody tr th:only-of-type {\n",
       "        vertical-align: middle;\n",
       "    }\n",
       "\n",
       "    .dataframe tbody tr th {\n",
       "        vertical-align: top;\n",
       "    }\n",
       "\n",
       "    .dataframe thead th {\n",
       "        text-align: right;\n",
       "    }\n",
       "</style>\n",
       "<table border=\"1\" class=\"dataframe\">\n",
       "  <thead>\n",
       "    <tr style=\"text-align: right;\">\n",
       "      <th></th>\n",
       "      <th>0</th>\n",
       "      <th>1</th>\n",
       "      <th>2</th>\n",
       "      <th>3</th>\n",
       "      <th>4</th>\n",
       "      <th>5</th>\n",
       "      <th>6</th>\n",
       "      <th>7</th>\n",
       "      <th>8</th>\n",
       "      <th>9</th>\n",
       "      <th>...</th>\n",
       "      <th>1910</th>\n",
       "      <th>1911</th>\n",
       "      <th>1912</th>\n",
       "      <th>1913</th>\n",
       "      <th>1914</th>\n",
       "      <th>1915</th>\n",
       "      <th>1916</th>\n",
       "      <th>1917</th>\n",
       "      <th>1918</th>\n",
       "      <th>1919</th>\n",
       "    </tr>\n",
       "  </thead>\n",
       "  <tbody>\n",
       "    <tr>\n",
       "      <th>0</th>\n",
       "      <td>0.000035</td>\n",
       "      <td>0.000000</td>\n",
       "      <td>0.000114</td>\n",
       "      <td>0.002049</td>\n",
       "      <td>0.003513</td>\n",
       "      <td>0.000032</td>\n",
       "      <td>0.000028</td>\n",
       "      <td>0.000488</td>\n",
       "      <td>0.000014</td>\n",
       "      <td>0.003485</td>\n",
       "      <td>...</td>\n",
       "      <td>0.016901</td>\n",
       "      <td>0.893255</td>\n",
       "      <td>0.053259</td>\n",
       "      <td>1.869082</td>\n",
       "      <td>1.779386</td>\n",
       "      <td>0.671124</td>\n",
       "      <td>0.676503</td>\n",
       "      <td>2.288389</td>\n",
       "      <td>3.221630</td>\n",
       "      <td>2.185791</td>\n",
       "    </tr>\n",
       "    <tr>\n",
       "      <th>1</th>\n",
       "      <td>0.000021</td>\n",
       "      <td>0.000000</td>\n",
       "      <td>0.001107</td>\n",
       "      <td>0.001307</td>\n",
       "      <td>0.003002</td>\n",
       "      <td>0.000233</td>\n",
       "      <td>0.000021</td>\n",
       "      <td>0.000502</td>\n",
       "      <td>0.000016</td>\n",
       "      <td>0.002203</td>\n",
       "      <td>...</td>\n",
       "      <td>0.182701</td>\n",
       "      <td>0.000000</td>\n",
       "      <td>0.018311</td>\n",
       "      <td>0.609131</td>\n",
       "      <td>0.769732</td>\n",
       "      <td>1.560577</td>\n",
       "      <td>2.811457</td>\n",
       "      <td>1.887052</td>\n",
       "      <td>6.389205</td>\n",
       "      <td>2.851825</td>\n",
       "    </tr>\n",
       "    <tr>\n",
       "      <th>2</th>\n",
       "      <td>0.000027</td>\n",
       "      <td>0.000000</td>\n",
       "      <td>0.003743</td>\n",
       "      <td>0.001395</td>\n",
       "      <td>0.001258</td>\n",
       "      <td>0.000279</td>\n",
       "      <td>0.000015</td>\n",
       "      <td>0.000972</td>\n",
       "      <td>0.000011</td>\n",
       "      <td>0.011654</td>\n",
       "      <td>...</td>\n",
       "      <td>0.005495</td>\n",
       "      <td>0.000000</td>\n",
       "      <td>1.059371</td>\n",
       "      <td>3.282094</td>\n",
       "      <td>0.082932</td>\n",
       "      <td>1.268846</td>\n",
       "      <td>0.268573</td>\n",
       "      <td>1.767740</td>\n",
       "      <td>7.470217</td>\n",
       "      <td>2.360128</td>\n",
       "    </tr>\n",
       "    <tr>\n",
       "      <th>3</th>\n",
       "      <td>0.000041</td>\n",
       "      <td>0.000000</td>\n",
       "      <td>0.000345</td>\n",
       "      <td>0.000022</td>\n",
       "      <td>0.001160</td>\n",
       "      <td>0.000027</td>\n",
       "      <td>0.000060</td>\n",
       "      <td>0.000734</td>\n",
       "      <td>0.000027</td>\n",
       "      <td>0.012704</td>\n",
       "      <td>...</td>\n",
       "      <td>0.337867</td>\n",
       "      <td>0.000000</td>\n",
       "      <td>0.075809</td>\n",
       "      <td>1.363863</td>\n",
       "      <td>0.311588</td>\n",
       "      <td>0.824614</td>\n",
       "      <td>1.136054</td>\n",
       "      <td>1.050131</td>\n",
       "      <td>1.582884</td>\n",
       "      <td>0.729486</td>\n",
       "    </tr>\n",
       "    <tr>\n",
       "      <th>4</th>\n",
       "      <td>0.000011</td>\n",
       "      <td>0.000000</td>\n",
       "      <td>0.000743</td>\n",
       "      <td>0.000856</td>\n",
       "      <td>0.000889</td>\n",
       "      <td>0.000234</td>\n",
       "      <td>0.000052</td>\n",
       "      <td>0.000676</td>\n",
       "      <td>0.000014</td>\n",
       "      <td>0.004137</td>\n",
       "      <td>...</td>\n",
       "      <td>0.267373</td>\n",
       "      <td>0.008097</td>\n",
       "      <td>1.227608</td>\n",
       "      <td>2.033737</td>\n",
       "      <td>0.418624</td>\n",
       "      <td>0.746319</td>\n",
       "      <td>0.147205</td>\n",
       "      <td>1.762232</td>\n",
       "      <td>3.168344</td>\n",
       "      <td>1.442034</td>\n",
       "    </tr>\n",
       "    <tr>\n",
       "      <th>...</th>\n",
       "      <td>...</td>\n",
       "      <td>...</td>\n",
       "      <td>...</td>\n",
       "      <td>...</td>\n",
       "      <td>...</td>\n",
       "      <td>...</td>\n",
       "      <td>...</td>\n",
       "      <td>...</td>\n",
       "      <td>...</td>\n",
       "      <td>...</td>\n",
       "      <td>...</td>\n",
       "      <td>...</td>\n",
       "      <td>...</td>\n",
       "      <td>...</td>\n",
       "      <td>...</td>\n",
       "      <td>...</td>\n",
       "      <td>...</td>\n",
       "      <td>...</td>\n",
       "      <td>...</td>\n",
       "      <td>...</td>\n",
       "      <td>...</td>\n",
       "    </tr>\n",
       "    <tr>\n",
       "      <th>6007</th>\n",
       "      <td>0.000025</td>\n",
       "      <td>0.000000</td>\n",
       "      <td>0.000985</td>\n",
       "      <td>0.000763</td>\n",
       "      <td>0.000907</td>\n",
       "      <td>0.000102</td>\n",
       "      <td>0.000031</td>\n",
       "      <td>0.000693</td>\n",
       "      <td>0.000054</td>\n",
       "      <td>0.004161</td>\n",
       "      <td>...</td>\n",
       "      <td>0.057892</td>\n",
       "      <td>0.004060</td>\n",
       "      <td>0.143541</td>\n",
       "      <td>1.939557</td>\n",
       "      <td>0.059481</td>\n",
       "      <td>0.470731</td>\n",
       "      <td>0.902604</td>\n",
       "      <td>1.141698</td>\n",
       "      <td>2.080220</td>\n",
       "      <td>0.711570</td>\n",
       "    </tr>\n",
       "    <tr>\n",
       "      <th>6008</th>\n",
       "      <td>0.000030</td>\n",
       "      <td>0.000000</td>\n",
       "      <td>0.000318</td>\n",
       "      <td>0.000776</td>\n",
       "      <td>0.001232</td>\n",
       "      <td>0.000094</td>\n",
       "      <td>0.000023</td>\n",
       "      <td>0.000344</td>\n",
       "      <td>0.000029</td>\n",
       "      <td>0.002257</td>\n",
       "      <td>...</td>\n",
       "      <td>0.746257</td>\n",
       "      <td>0.606299</td>\n",
       "      <td>0.042516</td>\n",
       "      <td>0.049920</td>\n",
       "      <td>1.263592</td>\n",
       "      <td>1.893806</td>\n",
       "      <td>0.530199</td>\n",
       "      <td>2.191145</td>\n",
       "      <td>2.604657</td>\n",
       "      <td>1.888091</td>\n",
       "    </tr>\n",
       "    <tr>\n",
       "      <th>6009</th>\n",
       "      <td>0.000012</td>\n",
       "      <td>0.000000</td>\n",
       "      <td>0.000390</td>\n",
       "      <td>0.000199</td>\n",
       "      <td>0.002028</td>\n",
       "      <td>0.000073</td>\n",
       "      <td>0.000012</td>\n",
       "      <td>0.000898</td>\n",
       "      <td>0.000030</td>\n",
       "      <td>0.006258</td>\n",
       "      <td>...</td>\n",
       "      <td>0.331380</td>\n",
       "      <td>0.284243</td>\n",
       "      <td>0.218986</td>\n",
       "      <td>1.422850</td>\n",
       "      <td>0.522687</td>\n",
       "      <td>1.296693</td>\n",
       "      <td>0.864551</td>\n",
       "      <td>2.644709</td>\n",
       "      <td>2.507091</td>\n",
       "      <td>1.105622</td>\n",
       "    </tr>\n",
       "    <tr>\n",
       "      <th>6010</th>\n",
       "      <td>0.000044</td>\n",
       "      <td>0.000000</td>\n",
       "      <td>0.000243</td>\n",
       "      <td>0.000325</td>\n",
       "      <td>0.000921</td>\n",
       "      <td>0.000192</td>\n",
       "      <td>0.000018</td>\n",
       "      <td>0.000630</td>\n",
       "      <td>0.000060</td>\n",
       "      <td>0.004729</td>\n",
       "      <td>...</td>\n",
       "      <td>0.718227</td>\n",
       "      <td>0.229875</td>\n",
       "      <td>0.755734</td>\n",
       "      <td>1.663187</td>\n",
       "      <td>0.662846</td>\n",
       "      <td>1.245695</td>\n",
       "      <td>0.291028</td>\n",
       "      <td>0.899488</td>\n",
       "      <td>1.363465</td>\n",
       "      <td>1.116118</td>\n",
       "    </tr>\n",
       "    <tr>\n",
       "      <th>6011</th>\n",
       "      <td>0.000089</td>\n",
       "      <td>0.000004</td>\n",
       "      <td>0.000225</td>\n",
       "      <td>0.000284</td>\n",
       "      <td>0.001051</td>\n",
       "      <td>0.000172</td>\n",
       "      <td>0.000114</td>\n",
       "      <td>0.000587</td>\n",
       "      <td>0.000035</td>\n",
       "      <td>0.002610</td>\n",
       "      <td>...</td>\n",
       "      <td>0.660973</td>\n",
       "      <td>0.015416</td>\n",
       "      <td>0.456981</td>\n",
       "      <td>1.384326</td>\n",
       "      <td>0.066723</td>\n",
       "      <td>1.083287</td>\n",
       "      <td>0.404074</td>\n",
       "      <td>1.090437</td>\n",
       "      <td>2.637269</td>\n",
       "      <td>1.160239</td>\n",
       "    </tr>\n",
       "  </tbody>\n",
       "</table>\n",
       "<p>6012 rows × 1920 columns</p>\n",
       "</div>"
      ],
      "text/plain": [
       "          0         1         2         3         4         5         6     \\\n",
       "0     0.000035  0.000000  0.000114  0.002049  0.003513  0.000032  0.000028   \n",
       "1     0.000021  0.000000  0.001107  0.001307  0.003002  0.000233  0.000021   \n",
       "2     0.000027  0.000000  0.003743  0.001395  0.001258  0.000279  0.000015   \n",
       "3     0.000041  0.000000  0.000345  0.000022  0.001160  0.000027  0.000060   \n",
       "4     0.000011  0.000000  0.000743  0.000856  0.000889  0.000234  0.000052   \n",
       "...        ...       ...       ...       ...       ...       ...       ...   \n",
       "6007  0.000025  0.000000  0.000985  0.000763  0.000907  0.000102  0.000031   \n",
       "6008  0.000030  0.000000  0.000318  0.000776  0.001232  0.000094  0.000023   \n",
       "6009  0.000012  0.000000  0.000390  0.000199  0.002028  0.000073  0.000012   \n",
       "6010  0.000044  0.000000  0.000243  0.000325  0.000921  0.000192  0.000018   \n",
       "6011  0.000089  0.000004  0.000225  0.000284  0.001051  0.000172  0.000114   \n",
       "\n",
       "          7         8         9     ...      1910      1911      1912  \\\n",
       "0     0.000488  0.000014  0.003485  ...  0.016901  0.893255  0.053259   \n",
       "1     0.000502  0.000016  0.002203  ...  0.182701  0.000000  0.018311   \n",
       "2     0.000972  0.000011  0.011654  ...  0.005495  0.000000  1.059371   \n",
       "3     0.000734  0.000027  0.012704  ...  0.337867  0.000000  0.075809   \n",
       "4     0.000676  0.000014  0.004137  ...  0.267373  0.008097  1.227608   \n",
       "...        ...       ...       ...  ...       ...       ...       ...   \n",
       "6007  0.000693  0.000054  0.004161  ...  0.057892  0.004060  0.143541   \n",
       "6008  0.000344  0.000029  0.002257  ...  0.746257  0.606299  0.042516   \n",
       "6009  0.000898  0.000030  0.006258  ...  0.331380  0.284243  0.218986   \n",
       "6010  0.000630  0.000060  0.004729  ...  0.718227  0.229875  0.755734   \n",
       "6011  0.000587  0.000035  0.002610  ...  0.660973  0.015416  0.456981   \n",
       "\n",
       "          1913      1914      1915      1916      1917      1918      1919  \n",
       "0     1.869082  1.779386  0.671124  0.676503  2.288389  3.221630  2.185791  \n",
       "1     0.609131  0.769732  1.560577  2.811457  1.887052  6.389205  2.851825  \n",
       "2     3.282094  0.082932  1.268846  0.268573  1.767740  7.470217  2.360128  \n",
       "3     1.363863  0.311588  0.824614  1.136054  1.050131  1.582884  0.729486  \n",
       "4     2.033737  0.418624  0.746319  0.147205  1.762232  3.168344  1.442034  \n",
       "...        ...       ...       ...       ...       ...       ...       ...  \n",
       "6007  1.939557  0.059481  0.470731  0.902604  1.141698  2.080220  0.711570  \n",
       "6008  0.049920  1.263592  1.893806  0.530199  2.191145  2.604657  1.888091  \n",
       "6009  1.422850  0.522687  1.296693  0.864551  2.644709  2.507091  1.105622  \n",
       "6010  1.663187  0.662846  1.245695  0.291028  0.899488  1.363465  1.116118  \n",
       "6011  1.384326  0.066723  1.083287  0.404074  1.090437  2.637269  1.160239  \n",
       "\n",
       "[6012 rows x 1920 columns]"
      ]
     },
     "execution_count": 81,
     "metadata": {},
     "output_type": "execute_result"
    }
   ],
   "source": [
    "\n",
    "matriz_csv = pd.DataFrame(features)\n",
    "matriz_csv.to_csv('/data/flavio/Camila/csv_clahe/densenet/lung/original/densenet_semseg.csv', index=False)\n",
    "matriz_csv"
   ]
  },
  {
   "cell_type": "code",
   "execution_count": null,
   "metadata": {},
   "outputs": [],
   "source": []
  }
 ],
 "metadata": {
  "kernelspec": {
   "display_name": "Python 3",
   "language": "python",
   "name": "python3"
  },
  "language_info": {
   "codemirror_mode": {
    "name": "ipython",
    "version": 3
   },
   "file_extension": ".py",
   "mimetype": "text/x-python",
   "name": "python",
   "nbconvert_exporter": "python",
   "pygments_lexer": "ipython3",
   "version": "3.7.6"
  }
 },
 "nbformat": 4,
 "nbformat_minor": 4
}
