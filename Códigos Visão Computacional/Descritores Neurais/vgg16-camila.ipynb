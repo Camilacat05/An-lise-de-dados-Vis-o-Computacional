{
 "cells": [
  {
   "cell_type": "code",
   "execution_count": 92,
   "metadata": {
    "execution": {
     "iopub.execute_input": "2021-08-22T17:19:45.713109Z",
     "iopub.status.busy": "2021-08-22T17:19:45.712498Z",
     "iopub.status.idle": "2021-08-22T17:19:45.715523Z",
     "shell.execute_reply": "2021-08-22T17:19:45.714781Z",
     "shell.execute_reply.started": "2021-08-19T01:08:17.941102Z"
    },
    "papermill": {
     "duration": 0.026921,
     "end_time": "2021-08-22T17:19:45.715703",
     "exception": false,
     "start_time": "2021-08-22T17:19:45.688782",
     "status": "completed"
    },
    "tags": []
   },
   "outputs": [],
   "source": [
    "import os\n",
    "os.environ[\"CUDA_DEVICE_ORDER\"]=\"PCI_BUS_ID\";\n",
    "\n",
    "# The GPU id to use, usually either \"0\" or \"1\";\n",
    "os.environ[\"CUDA_VISIBLE_DEVICES\"]=\"1\";"
   ]
  },
  {
   "cell_type": "code",
   "execution_count": 93,
   "metadata": {
    "_cell_guid": "b1076dfc-b9ad-4769-8c92-a6c4dae69d19",
    "_uuid": "8f2839f25d086af736a60e9eeb907d3b93b6e0e5",
    "execution": {
     "iopub.execute_input": "2021-08-22T17:19:45.745151Z",
     "iopub.status.busy": "2021-08-22T17:19:45.744575Z",
     "iopub.status.idle": "2021-08-22T17:19:52.948805Z",
     "shell.execute_reply": "2021-08-22T17:19:52.947605Z",
     "shell.execute_reply.started": "2021-08-19T01:08:17.960153Z"
    },
    "papermill": {
     "duration": 7.219799,
     "end_time": "2021-08-22T17:19:52.948982",
     "exception": false,
     "start_time": "2021-08-22T17:19:45.729183",
     "status": "completed"
    },
    "tags": []
   },
   "outputs": [],
   "source": [
    "import cv2\n",
    "import numpy as np \n",
    "import pandas as pd\n",
    "#from keras.backend import set_image_data_format\n",
    "from tensorflow.keras.preprocessing import image\n",
    "from skimage.io import imread_collection, imread\n",
    "from tensorflow.keras.applications.vgg16 import VGG16\n",
    "from tensorflow.keras.applications.vgg16 import preprocess_input\n",
    "import warnings\n",
    "import os\n",
    "warnings.filterwarnings('ignore')\n",
    "%matplotlib inline"
   ]
  },
  {
   "cell_type": "markdown",
   "metadata": {
    "papermill": {
     "duration": 0.012759,
     "end_time": "2021-08-22T17:19:52.974805",
     "exception": false,
     "start_time": "2021-08-22T17:19:52.962046",
     "status": "completed"
    },
    "tags": []
   },
   "source": [
    "### Functions for read images in correct order"
   ]
  },
  {
   "cell_type": "markdown",
   "metadata": {
    "papermill": {
     "duration": 0.012631,
     "end_time": "2021-08-22T17:19:53.000488",
     "exception": false,
     "start_time": "2021-08-22T17:19:52.987857",
     "status": "completed"
    },
    "tags": []
   },
   "source": [
    "### Read images from database"
   ]
  },
  {
   "cell_type": "code",
   "execution_count": 94,
   "metadata": {
    "execution": {
     "iopub.execute_input": "2021-08-22T17:19:53.031189Z",
     "iopub.status.busy": "2021-08-22T17:19:53.030537Z",
     "iopub.status.idle": "2021-08-22T17:19:54.186330Z",
     "shell.execute_reply": "2021-08-22T17:19:54.187190Z",
     "shell.execute_reply.started": "2021-08-19T01:08:25.752228Z"
    },
    "papermill": {
     "duration": 1.174152,
     "end_time": "2021-08-22T17:19:54.187585",
     "exception": false,
     "start_time": "2021-08-22T17:19:53.013433",
     "status": "completed"
    },
    "tags": []
   },
   "outputs": [
    {
     "name": "stdout",
     "output_type": "stream",
     "text": [
      "The database has 6012 segmented images\n"
     ]
    }
   ],
   "source": [
    "path = '/data/flavio/Camila/imagens/clahe/originais-clahe/lung-clahe/'\n",
    "image_names = os.listdir(path)\n",
    "gray_images = [imread(path+str(name)+'') for name in image_names]\n",
    "print('The database has {} segmented images'.format(len(gray_images)))\n"
   ]
  },
  {
   "cell_type": "code",
   "execution_count": 95,
   "metadata": {
    "execution": {
     "iopub.execute_input": "2021-08-22T17:19:54.219045Z",
     "iopub.status.busy": "2021-08-22T17:19:54.218453Z",
     "iopub.status.idle": "2021-08-22T17:19:54.226868Z",
     "shell.execute_reply": "2021-08-22T17:19:54.226208Z",
     "shell.execute_reply.started": "2021-08-19T01:08:26.854839Z"
    },
    "papermill": {
     "duration": 0.024662,
     "end_time": "2021-08-22T17:19:54.227002",
     "exception": false,
     "start_time": "2021-08-22T17:19:54.202340",
     "status": "completed"
    },
    "tags": []
   },
   "outputs": [
    {
     "data": {
      "text/plain": [
       "(256, 256)"
      ]
     },
     "execution_count": 95,
     "metadata": {},
     "output_type": "execute_result"
    }
   ],
   "source": [
    "gray_images[0].shape"
   ]
  },
  {
   "cell_type": "code",
   "execution_count": 96,
   "metadata": {
    "execution": {
     "iopub.execute_input": "2021-08-22T17:19:54.259377Z",
     "iopub.status.busy": "2021-08-22T17:19:54.258765Z",
     "iopub.status.idle": "2021-08-22T17:19:54.263344Z",
     "shell.execute_reply": "2021-08-22T17:19:54.262868Z",
     "shell.execute_reply.started": "2021-08-19T01:08:26.867339Z"
    },
    "papermill": {
     "duration": 0.022403,
     "end_time": "2021-08-22T17:19:54.263484",
     "exception": false,
     "start_time": "2021-08-22T17:19:54.241081",
     "status": "completed"
    },
    "tags": []
   },
   "outputs": [],
   "source": [
    "#from tqdm import tqdm\n",
    "#resize_i = []\n",
    "#for i in tqdm(gray_images): \n",
    " #          im = cv2.resize((i),(256, 256))\n",
    "  #         resize_i.append(im)\n",
    "            "
   ]
  },
  {
   "cell_type": "code",
   "execution_count": 97,
   "metadata": {
    "execution": {
     "iopub.execute_input": "2021-08-22T17:19:54.299742Z",
     "iopub.status.busy": "2021-08-22T17:19:54.298820Z",
     "iopub.status.idle": "2021-08-22T17:19:54.301746Z",
     "shell.execute_reply": "2021-08-22T17:19:54.301175Z",
     "shell.execute_reply.started": "2021-08-19T01:08:26.882051Z"
    },
    "papermill": {
     "duration": 0.024052,
     "end_time": "2021-08-22T17:19:54.301884",
     "exception": false,
     "start_time": "2021-08-22T17:19:54.277832",
     "status": "completed"
    },
    "tags": []
   },
   "outputs": [],
   "source": [
    "#resize_i[0].shape"
   ]
  },
  {
   "cell_type": "code",
   "execution_count": 98,
   "metadata": {
    "execution": {
     "iopub.execute_input": "2021-08-22T17:19:54.358472Z",
     "iopub.status.busy": "2021-08-22T17:19:54.357736Z",
     "iopub.status.idle": "2021-08-22T17:19:54.524993Z",
     "shell.execute_reply": "2021-08-22T17:19:54.524506Z",
     "shell.execute_reply.started": "2021-08-19T01:08:26.897495Z"
    },
    "papermill": {
     "duration": 0.207741,
     "end_time": "2021-08-22T17:19:54.525132",
     "exception": false,
     "start_time": "2021-08-22T17:19:54.317391",
     "status": "completed"
    },
    "tags": []
   },
   "outputs": [
    {
     "data": {
      "text/plain": [
       "<matplotlib.image.AxesImage at 0x7f957e5d20d0>"
      ]
     },
     "execution_count": 98,
     "metadata": {},
     "output_type": "execute_result"
    },
    {
     "data": {
      "image/png": "[encoded data removed]",
      "text/plain": [
       "<Figure size 432x288 with 1 Axes>"
      ]
     },
     "metadata": {
      "needs_background": "light"
     },
     "output_type": "display_data"
    }
   ],
   "source": [
    "import matplotlib.pyplot as plt\n",
    "plt.imshow(gray_images[8], cmap='gray')"
   ]
  },
  {
   "cell_type": "code",
   "execution_count": 99,
   "metadata": {
    "execution": {
     "iopub.execute_input": "2021-08-22T17:19:54.559800Z",
     "iopub.status.busy": "2021-08-22T17:19:54.559154Z",
     "iopub.status.idle": "2021-08-22T17:19:54.561521Z",
     "shell.execute_reply": "2021-08-22T17:19:54.561914Z",
     "shell.execute_reply.started": "2021-08-19T01:08:27.136322Z"
    },
    "papermill": {
     "duration": 0.021478,
     "end_time": "2021-08-22T17:19:54.562081",
     "exception": false,
     "start_time": "2021-08-22T17:19:54.540603",
     "status": "completed"
    },
    "tags": []
   },
   "outputs": [],
   "source": [
    "#for i, im in enumerate(gray_images):\n",
    " #    image = im[i].reshape(258,258) jhghg"
   ]
  },
  {
   "cell_type": "code",
   "execution_count": 100,
   "metadata": {
    "execution": {
     "iopub.execute_input": "2021-08-22T17:19:54.598022Z",
     "iopub.status.busy": "2021-08-22T17:19:54.597408Z",
     "iopub.status.idle": "2021-08-22T17:19:54.907226Z",
     "shell.execute_reply": "2021-08-22T17:19:54.906582Z",
     "shell.execute_reply.started": "2021-08-19T01:08:27.145968Z"
    },
    "papermill": {
     "duration": 0.329863,
     "end_time": "2021-08-22T17:19:54.907417",
     "exception": false,
     "start_time": "2021-08-22T17:19:54.577554",
     "status": "completed"
    },
    "tags": []
   },
   "outputs": [],
   "source": [
    "images = np.zeros((len(gray_images), gray_images[0].shape[0], gray_images[0].shape[1], 3))\n",
    "\n",
    "for i, im in enumerate(gray_images):\n",
    "    for j in range(3):\n",
    "        images[i, :, :, j] = im\n",
    "        #print(i)"
   ]
  },
  {
   "cell_type": "code",
   "execution_count": 101,
   "metadata": {
    "execution": {
     "iopub.execute_input": "2021-08-22T17:19:54.976597Z",
     "iopub.status.busy": "2021-08-22T17:19:54.975745Z",
     "iopub.status.idle": "2021-08-22T17:19:57.754898Z",
     "shell.execute_reply": "2021-08-22T17:19:57.753898Z",
     "shell.execute_reply.started": "2021-08-19T01:08:27.408040Z"
    },
    "papermill": {
     "duration": 2.801331,
     "end_time": "2021-08-22T17:19:57.755061",
     "exception": false,
     "start_time": "2021-08-22T17:19:54.953730",
     "status": "completed"
    },
    "tags": []
   },
   "outputs": [],
   "source": [
    "model = VGG16(weights='imagenet', include_top=False, input_shape=(256, 256, 3), pooling='avg')"
   ]
  },
  {
   "cell_type": "code",
   "execution_count": 102,
   "metadata": {
    "execution": {
     "iopub.execute_input": "2021-08-22T17:19:57.800069Z",
     "iopub.status.busy": "2021-08-22T17:19:57.799424Z",
     "iopub.status.idle": "2021-08-22T17:20:36.955003Z",
     "shell.execute_reply": "2021-08-22T17:20:36.954494Z",
     "shell.execute_reply.started": "2021-08-19T01:08:28.340154Z"
    },
    "papermill": {
     "duration": 39.180321,
     "end_time": "2021-08-22T17:20:36.955157",
     "exception": false,
     "start_time": "2021-08-22T17:19:57.774836",
     "status": "completed"
    },
    "tags": []
   },
   "outputs": [],
   "source": [
    "x = preprocess_input(images)\n",
    "\n",
    "features = model.predict(x)"
   ]
  },
  {
   "cell_type": "code",
   "execution_count": 103,
   "metadata": {
    "execution": {
     "iopub.execute_input": "2021-08-22T17:20:36.998479Z",
     "iopub.status.busy": "2021-08-22T17:20:36.997701Z",
     "iopub.status.idle": "2021-08-22T17:20:37.001407Z",
     "shell.execute_reply": "2021-08-22T17:20:37.001979Z",
     "shell.execute_reply.started": "2021-08-19T01:09:33.320280Z"
    },
    "papermill": {
     "duration": 0.026867,
     "end_time": "2021-08-22T17:20:37.002152",
     "exception": false,
     "start_time": "2021-08-22T17:20:36.975285",
     "status": "completed"
    },
    "tags": []
   },
   "outputs": [
    {
     "data": {
      "text/plain": [
       "(512,)"
      ]
     },
     "execution_count": 103,
     "metadata": {},
     "output_type": "execute_result"
    }
   ],
   "source": [
    "features[0].shape"
   ]
  },
  {
   "cell_type": "code",
   "execution_count": 104,
   "metadata": {
    "execution": {
     "iopub.execute_input": "2021-08-22T17:20:37.046925Z",
     "iopub.status.busy": "2021-08-22T17:20:37.046073Z",
     "iopub.status.idle": "2021-08-22T17:20:37.050458Z",
     "shell.execute_reply": "2021-08-22T17:20:37.049967Z",
     "shell.execute_reply.started": "2021-08-19T01:13:10.266298Z"
    },
    "papermill": {
     "duration": 0.0288,
     "end_time": "2021-08-22T17:20:37.050596",
     "exception": false,
     "start_time": "2021-08-22T17:20:37.021796",
     "status": "completed"
    },
    "tags": []
   },
   "outputs": [
    {
     "data": {
      "text/plain": [
       "array([[1.8763129 , 2.118296  , 2.3505375 , ..., 1.2103128 , 2.1756222 ,\n",
       "        5.218935  ],\n",
       "       [3.145153  , 0.7054979 , 1.2267711 , ..., 0.26348475, 2.0938118 ,\n",
       "        0.11302229],\n",
       "       [6.2679377 , 3.4413235 , 0.59431905, ..., 0.45602262, 4.3155546 ,\n",
       "        0.25452882],\n",
       "       ...,\n",
       "       [0.93261826, 3.2606997 , 2.3961306 , ..., 1.6007615 , 3.8152795 ,\n",
       "        0.23078808],\n",
       "       [2.71799   , 0.6320168 , 2.3636665 , ..., 0.5056915 , 3.703392  ,\n",
       "        1.3813549 ],\n",
       "       [3.175407  , 0.29281873, 2.7216303 , ..., 0.74131787, 3.0175354 ,\n",
       "        0.4269893 ]], dtype=float32)"
      ]
     },
     "execution_count": 104,
     "metadata": {},
     "output_type": "execute_result"
    }
   ],
   "source": [
    "features"
   ]
  },
  {
   "cell_type": "code",
   "execution_count": 105,
   "metadata": {
    "execution": {
     "iopub.execute_input": "2021-08-22T17:20:37.092923Z",
     "iopub.status.busy": "2021-08-22T17:20:37.092319Z",
     "iopub.status.idle": "2021-08-22T17:20:37.095185Z",
     "shell.execute_reply": "2021-08-22T17:20:37.094672Z",
     "shell.execute_reply.started": "2021-08-19T01:09:33.329212Z"
    },
    "papermill": {
     "duration": 0.025919,
     "end_time": "2021-08-22T17:20:37.095338",
     "exception": false,
     "start_time": "2021-08-22T17:20:37.069419",
     "status": "completed"
    },
    "tags": []
   },
   "outputs": [],
   "source": [
    "#import numpy as np\n",
    "#np.save('./vgg.csv', features)"
   ]
  },
  {
   "cell_type": "code",
   "execution_count": 106,
   "metadata": {
    "execution": {
     "iopub.execute_input": "2021-08-22T17:20:37.136587Z",
     "iopub.status.busy": "2021-08-22T17:20:37.135974Z",
     "iopub.status.idle": "2021-08-22T17:20:37.139171Z",
     "shell.execute_reply": "2021-08-22T17:20:37.138585Z",
     "shell.execute_reply.started": "2021-08-19T01:14:37.223464Z"
    },
    "papermill": {
     "duration": 0.025562,
     "end_time": "2021-08-22T17:20:37.139326",
     "exception": false,
     "start_time": "2021-08-22T17:20:37.113764",
     "status": "completed"
    },
    "tags": []
   },
   "outputs": [],
   "source": [
    "matriz_csv = pd.DataFrame(features)"
   ]
  },
  {
   "cell_type": "code",
   "execution_count": 107,
   "metadata": {
    "execution": {
     "iopub.execute_input": "2021-08-22T17:20:37.262365Z",
     "iopub.status.busy": "2021-08-22T17:20:37.261762Z",
     "iopub.status.idle": "2021-08-22T17:20:37.352435Z",
     "shell.execute_reply": "2021-08-22T17:20:37.352945Z",
     "shell.execute_reply.started": "2021-08-19T01:09:33.357836Z"
    },
    "papermill": {
     "duration": 0.113832,
     "end_time": "2021-08-22T17:20:37.353117",
     "exception": false,
     "start_time": "2021-08-22T17:20:37.239285",
     "status": "completed"
    },
    "tags": []
   },
   "outputs": [],
   "source": [
    "matriz_csv.to_csv('/data/flavio/Camila/csv_clahe/vgg16/Lung/original/vgg16_semseg.csv', index=False)"
   ]
  },
  {
   "cell_type": "code",
   "execution_count": 108,
   "metadata": {
    "execution": {
     "iopub.execute_input": "2021-08-22T17:20:37.394095Z",
     "iopub.status.busy": "2021-08-22T17:20:37.393530Z",
     "iopub.status.idle": "2021-08-22T17:20:37.420308Z",
     "shell.execute_reply": "2021-08-22T17:20:37.420799Z"
    },
    "papermill": {
     "duration": 0.048627,
     "end_time": "2021-08-22T17:20:37.420962",
     "exception": false,
     "start_time": "2021-08-22T17:20:37.372335",
     "status": "completed"
    },
    "tags": []
   },
   "outputs": [
    {
     "data": {
      "text/html": [
       "<div>\n",
       "<style scoped>\n",
       "    .dataframe tbody tr th:only-of-type {\n",
       "        vertical-align: middle;\n",
       "    }\n",
       "\n",
       "    .dataframe tbody tr th {\n",
       "        vertical-align: top;\n",
       "    }\n",
       "\n",
       "    .dataframe thead th {\n",
       "        text-align: right;\n",
       "    }\n",
       "</style>\n",
       "<table border=\"1\" class=\"dataframe\">\n",
       "  <thead>\n",
       "    <tr style=\"text-align: right;\">\n",
       "      <th></th>\n",
       "      <th>0</th>\n",
       "      <th>1</th>\n",
       "      <th>2</th>\n",
       "      <th>3</th>\n",
       "      <th>4</th>\n",
       "      <th>5</th>\n",
       "      <th>6</th>\n",
       "      <th>7</th>\n",
       "      <th>8</th>\n",
       "      <th>9</th>\n",
       "      <th>...</th>\n",
       "      <th>502</th>\n",
       "      <th>503</th>\n",
       "      <th>504</th>\n",
       "      <th>505</th>\n",
       "      <th>506</th>\n",
       "      <th>507</th>\n",
       "      <th>508</th>\n",
       "      <th>509</th>\n",
       "      <th>510</th>\n",
       "      <th>511</th>\n",
       "    </tr>\n",
       "  </thead>\n",
       "  <tbody>\n",
       "    <tr>\n",
       "      <th>0</th>\n",
       "      <td>1.876313</td>\n",
       "      <td>2.118296</td>\n",
       "      <td>2.350538</td>\n",
       "      <td>0.474030</td>\n",
       "      <td>0.121013</td>\n",
       "      <td>0.560460</td>\n",
       "      <td>0.000000</td>\n",
       "      <td>8.007498</td>\n",
       "      <td>0.689638</td>\n",
       "      <td>0.679177</td>\n",
       "      <td>...</td>\n",
       "      <td>0.923213</td>\n",
       "      <td>0.710657</td>\n",
       "      <td>3.731614</td>\n",
       "      <td>2.181906</td>\n",
       "      <td>0.000000</td>\n",
       "      <td>1.182148</td>\n",
       "      <td>1.039273</td>\n",
       "      <td>1.210313</td>\n",
       "      <td>2.175622</td>\n",
       "      <td>5.218935</td>\n",
       "    </tr>\n",
       "    <tr>\n",
       "      <th>1</th>\n",
       "      <td>3.145153</td>\n",
       "      <td>0.705498</td>\n",
       "      <td>1.226771</td>\n",
       "      <td>0.644759</td>\n",
       "      <td>0.014237</td>\n",
       "      <td>0.540998</td>\n",
       "      <td>0.053127</td>\n",
       "      <td>4.195190</td>\n",
       "      <td>4.013473</td>\n",
       "      <td>4.143245</td>\n",
       "      <td>...</td>\n",
       "      <td>6.285887</td>\n",
       "      <td>0.497114</td>\n",
       "      <td>6.966183</td>\n",
       "      <td>1.852853</td>\n",
       "      <td>0.000000</td>\n",
       "      <td>0.002126</td>\n",
       "      <td>0.491431</td>\n",
       "      <td>0.263485</td>\n",
       "      <td>2.093812</td>\n",
       "      <td>0.113022</td>\n",
       "    </tr>\n",
       "    <tr>\n",
       "      <th>2</th>\n",
       "      <td>6.267938</td>\n",
       "      <td>3.441324</td>\n",
       "      <td>0.594319</td>\n",
       "      <td>0.206358</td>\n",
       "      <td>0.187122</td>\n",
       "      <td>0.000000</td>\n",
       "      <td>2.056947</td>\n",
       "      <td>0.683649</td>\n",
       "      <td>5.077357</td>\n",
       "      <td>0.198528</td>\n",
       "      <td>...</td>\n",
       "      <td>6.979148</td>\n",
       "      <td>1.466163</td>\n",
       "      <td>6.537251</td>\n",
       "      <td>5.895635</td>\n",
       "      <td>0.079496</td>\n",
       "      <td>1.456865</td>\n",
       "      <td>0.123172</td>\n",
       "      <td>0.456023</td>\n",
       "      <td>4.315555</td>\n",
       "      <td>0.254529</td>\n",
       "    </tr>\n",
       "    <tr>\n",
       "      <th>3</th>\n",
       "      <td>2.504478</td>\n",
       "      <td>0.012038</td>\n",
       "      <td>0.743011</td>\n",
       "      <td>0.000000</td>\n",
       "      <td>0.019500</td>\n",
       "      <td>1.081191</td>\n",
       "      <td>0.402164</td>\n",
       "      <td>4.903756</td>\n",
       "      <td>2.224998</td>\n",
       "      <td>1.034817</td>\n",
       "      <td>...</td>\n",
       "      <td>0.649735</td>\n",
       "      <td>1.648829</td>\n",
       "      <td>11.402003</td>\n",
       "      <td>4.353302</td>\n",
       "      <td>0.087808</td>\n",
       "      <td>0.199244</td>\n",
       "      <td>1.403822</td>\n",
       "      <td>0.000000</td>\n",
       "      <td>4.591254</td>\n",
       "      <td>1.095926</td>\n",
       "    </tr>\n",
       "    <tr>\n",
       "      <th>4</th>\n",
       "      <td>4.478085</td>\n",
       "      <td>0.751330</td>\n",
       "      <td>0.049398</td>\n",
       "      <td>0.758233</td>\n",
       "      <td>0.412919</td>\n",
       "      <td>0.701057</td>\n",
       "      <td>0.364910</td>\n",
       "      <td>3.638179</td>\n",
       "      <td>0.756169</td>\n",
       "      <td>3.530993</td>\n",
       "      <td>...</td>\n",
       "      <td>3.628678</td>\n",
       "      <td>1.236613</td>\n",
       "      <td>2.584534</td>\n",
       "      <td>9.557904</td>\n",
       "      <td>0.159414</td>\n",
       "      <td>0.756975</td>\n",
       "      <td>1.883378</td>\n",
       "      <td>3.932736</td>\n",
       "      <td>2.098947</td>\n",
       "      <td>2.005021</td>\n",
       "    </tr>\n",
       "    <tr>\n",
       "      <th>...</th>\n",
       "      <td>...</td>\n",
       "      <td>...</td>\n",
       "      <td>...</td>\n",
       "      <td>...</td>\n",
       "      <td>...</td>\n",
       "      <td>...</td>\n",
       "      <td>...</td>\n",
       "      <td>...</td>\n",
       "      <td>...</td>\n",
       "      <td>...</td>\n",
       "      <td>...</td>\n",
       "      <td>...</td>\n",
       "      <td>...</td>\n",
       "      <td>...</td>\n",
       "      <td>...</td>\n",
       "      <td>...</td>\n",
       "      <td>...</td>\n",
       "      <td>...</td>\n",
       "      <td>...</td>\n",
       "      <td>...</td>\n",
       "      <td>...</td>\n",
       "    </tr>\n",
       "    <tr>\n",
       "      <th>6007</th>\n",
       "      <td>3.324901</td>\n",
       "      <td>0.058823</td>\n",
       "      <td>1.378268</td>\n",
       "      <td>0.114551</td>\n",
       "      <td>3.663175</td>\n",
       "      <td>0.705839</td>\n",
       "      <td>0.051382</td>\n",
       "      <td>0.355015</td>\n",
       "      <td>3.576995</td>\n",
       "      <td>0.122212</td>\n",
       "      <td>...</td>\n",
       "      <td>0.216917</td>\n",
       "      <td>1.713328</td>\n",
       "      <td>17.748774</td>\n",
       "      <td>8.208362</td>\n",
       "      <td>0.000000</td>\n",
       "      <td>0.407489</td>\n",
       "      <td>0.595985</td>\n",
       "      <td>0.478654</td>\n",
       "      <td>2.686346</td>\n",
       "      <td>1.751843</td>\n",
       "    </tr>\n",
       "    <tr>\n",
       "      <th>6008</th>\n",
       "      <td>1.539019</td>\n",
       "      <td>0.000000</td>\n",
       "      <td>0.000000</td>\n",
       "      <td>1.015117</td>\n",
       "      <td>0.268542</td>\n",
       "      <td>0.202332</td>\n",
       "      <td>0.105662</td>\n",
       "      <td>0.637998</td>\n",
       "      <td>2.839586</td>\n",
       "      <td>3.738882</td>\n",
       "      <td>...</td>\n",
       "      <td>4.719752</td>\n",
       "      <td>2.469861</td>\n",
       "      <td>5.573921</td>\n",
       "      <td>0.457761</td>\n",
       "      <td>0.000000</td>\n",
       "      <td>7.864140</td>\n",
       "      <td>0.305983</td>\n",
       "      <td>1.299188</td>\n",
       "      <td>1.586913</td>\n",
       "      <td>1.671860</td>\n",
       "    </tr>\n",
       "    <tr>\n",
       "      <th>6009</th>\n",
       "      <td>0.932618</td>\n",
       "      <td>3.260700</td>\n",
       "      <td>2.396131</td>\n",
       "      <td>0.425447</td>\n",
       "      <td>0.316104</td>\n",
       "      <td>0.698784</td>\n",
       "      <td>0.111164</td>\n",
       "      <td>5.391039</td>\n",
       "      <td>0.266495</td>\n",
       "      <td>2.568875</td>\n",
       "      <td>...</td>\n",
       "      <td>1.852410</td>\n",
       "      <td>3.247694</td>\n",
       "      <td>11.511068</td>\n",
       "      <td>4.247784</td>\n",
       "      <td>0.093708</td>\n",
       "      <td>2.511914</td>\n",
       "      <td>1.945708</td>\n",
       "      <td>1.600762</td>\n",
       "      <td>3.815279</td>\n",
       "      <td>0.230788</td>\n",
       "    </tr>\n",
       "    <tr>\n",
       "      <th>6010</th>\n",
       "      <td>2.717990</td>\n",
       "      <td>0.632017</td>\n",
       "      <td>2.363667</td>\n",
       "      <td>0.275290</td>\n",
       "      <td>0.000238</td>\n",
       "      <td>0.067079</td>\n",
       "      <td>0.000000</td>\n",
       "      <td>2.192417</td>\n",
       "      <td>5.433681</td>\n",
       "      <td>1.859143</td>\n",
       "      <td>...</td>\n",
       "      <td>2.046347</td>\n",
       "      <td>1.931354</td>\n",
       "      <td>10.411982</td>\n",
       "      <td>1.225589</td>\n",
       "      <td>0.000000</td>\n",
       "      <td>2.042803</td>\n",
       "      <td>0.650860</td>\n",
       "      <td>0.505692</td>\n",
       "      <td>3.703392</td>\n",
       "      <td>1.381355</td>\n",
       "    </tr>\n",
       "    <tr>\n",
       "      <th>6011</th>\n",
       "      <td>3.175407</td>\n",
       "      <td>0.292819</td>\n",
       "      <td>2.721630</td>\n",
       "      <td>1.440100</td>\n",
       "      <td>0.666611</td>\n",
       "      <td>0.270373</td>\n",
       "      <td>0.210976</td>\n",
       "      <td>5.909369</td>\n",
       "      <td>1.561448</td>\n",
       "      <td>0.502163</td>\n",
       "      <td>...</td>\n",
       "      <td>1.736209</td>\n",
       "      <td>1.895798</td>\n",
       "      <td>6.113062</td>\n",
       "      <td>0.936434</td>\n",
       "      <td>0.131208</td>\n",
       "      <td>3.546532</td>\n",
       "      <td>0.218062</td>\n",
       "      <td>0.741318</td>\n",
       "      <td>3.017535</td>\n",
       "      <td>0.426989</td>\n",
       "    </tr>\n",
       "  </tbody>\n",
       "</table>\n",
       "<p>6012 rows × 512 columns</p>\n",
       "</div>"
      ],
      "text/plain": [
       "           0         1         2         3         4         5         6    \\\n",
       "0     1.876313  2.118296  2.350538  0.474030  0.121013  0.560460  0.000000   \n",
       "1     3.145153  0.705498  1.226771  0.644759  0.014237  0.540998  0.053127   \n",
       "2     6.267938  3.441324  0.594319  0.206358  0.187122  0.000000  2.056947   \n",
       "3     2.504478  0.012038  0.743011  0.000000  0.019500  1.081191  0.402164   \n",
       "4     4.478085  0.751330  0.049398  0.758233  0.412919  0.701057  0.364910   \n",
       "...        ...       ...       ...       ...       ...       ...       ...   \n",
       "6007  3.324901  0.058823  1.378268  0.114551  3.663175  0.705839  0.051382   \n",
       "6008  1.539019  0.000000  0.000000  1.015117  0.268542  0.202332  0.105662   \n",
       "6009  0.932618  3.260700  2.396131  0.425447  0.316104  0.698784  0.111164   \n",
       "6010  2.717990  0.632017  2.363667  0.275290  0.000238  0.067079  0.000000   \n",
       "6011  3.175407  0.292819  2.721630  1.440100  0.666611  0.270373  0.210976   \n",
       "\n",
       "           7         8         9    ...       502       503        504  \\\n",
       "0     8.007498  0.689638  0.679177  ...  0.923213  0.710657   3.731614   \n",
       "1     4.195190  4.013473  4.143245  ...  6.285887  0.497114   6.966183   \n",
       "2     0.683649  5.077357  0.198528  ...  6.979148  1.466163   6.537251   \n",
       "3     4.903756  2.224998  1.034817  ...  0.649735  1.648829  11.402003   \n",
       "4     3.638179  0.756169  3.530993  ...  3.628678  1.236613   2.584534   \n",
       "...        ...       ...       ...  ...       ...       ...        ...   \n",
       "6007  0.355015  3.576995  0.122212  ...  0.216917  1.713328  17.748774   \n",
       "6008  0.637998  2.839586  3.738882  ...  4.719752  2.469861   5.573921   \n",
       "6009  5.391039  0.266495  2.568875  ...  1.852410  3.247694  11.511068   \n",
       "6010  2.192417  5.433681  1.859143  ...  2.046347  1.931354  10.411982   \n",
       "6011  5.909369  1.561448  0.502163  ...  1.736209  1.895798   6.113062   \n",
       "\n",
       "           505       506       507       508       509       510       511  \n",
       "0     2.181906  0.000000  1.182148  1.039273  1.210313  2.175622  5.218935  \n",
       "1     1.852853  0.000000  0.002126  0.491431  0.263485  2.093812  0.113022  \n",
       "2     5.895635  0.079496  1.456865  0.123172  0.456023  4.315555  0.254529  \n",
       "3     4.353302  0.087808  0.199244  1.403822  0.000000  4.591254  1.095926  \n",
       "4     9.557904  0.159414  0.756975  1.883378  3.932736  2.098947  2.005021  \n",
       "...        ...       ...       ...       ...       ...       ...       ...  \n",
       "6007  8.208362  0.000000  0.407489  0.595985  0.478654  2.686346  1.751843  \n",
       "6008  0.457761  0.000000  7.864140  0.305983  1.299188  1.586913  1.671860  \n",
       "6009  4.247784  0.093708  2.511914  1.945708  1.600762  3.815279  0.230788  \n",
       "6010  1.225589  0.000000  2.042803  0.650860  0.505692  3.703392  1.381355  \n",
       "6011  0.936434  0.131208  3.546532  0.218062  0.741318  3.017535  0.426989  \n",
       "\n",
       "[6012 rows x 512 columns]"
      ]
     },
     "execution_count": 108,
     "metadata": {},
     "output_type": "execute_result"
    }
   ],
   "source": [
    "matriz_csv"
   ]
  },
  {
   "cell_type": "code",
   "execution_count": null,
   "metadata": {
    "papermill": {
     "duration": 0.019174,
     "end_time": "2021-08-22T17:20:37.460650",
     "exception": false,
     "start_time": "2021-08-22T17:20:37.441476",
     "status": "completed"
    },
    "tags": []
   },
   "outputs": [],
   "source": []
  }
 ],
 "metadata": {
  "kernelspec": {
   "display_name": "Python 3",
   "language": "python",
   "name": "python3"
  },
  "language_info": {
   "codemirror_mode": {
    "name": "ipython",
    "version": 3
   },
   "file_extension": ".py",
   "mimetype": "text/x-python",
   "name": "python",
   "nbconvert_exporter": "python",
   "pygments_lexer": "ipython3",
   "version": "3.7.6"
  },
  "papermill": {
   "default_parameters": {},
   "duration": 61.938236,
   "end_time": "2021-08-22T17:20:39.571431",
   "environment_variables": {},
   "exception": null,
   "input_path": "__notebook__.ipynb",
   "output_path": "__notebook__.ipynb",
   "parameters": {},
   "start_time": "2021-08-22T17:19:37.633195",
   "version": "2.3.3"
  }
 },
 "nbformat": 4,
 "nbformat_minor": 5
}
